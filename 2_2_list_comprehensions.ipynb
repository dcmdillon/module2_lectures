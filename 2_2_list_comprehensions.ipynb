{
  "nbformat": 4,
  "nbformat_minor": 0,
  "metadata": {
    "anaconda-cloud": {},
    "kernelspec": {
      "display_name": "Python 3",
      "language": "python",
      "name": "python3"
    },
    "language_info": {
      "codemirror_mode": {
        "name": "ipython",
        "version": 3
      },
      "file_extension": ".py",
      "mimetype": "text/x-python",
      "name": "python",
      "nbconvert_exporter": "python",
      "pygments_lexer": "ipython3",
      "version": "3.7.2"
    },
    "colab": {
      "name": "2_2_list_comprehensions.ipynb",
      "provenance": [],
      "include_colab_link": true
    }
  },
  "cells": [
    {
      "cell_type": "markdown",
      "metadata": {
        "id": "view-in-github",
        "colab_type": "text"
      },
      "source": [
        "<a href=\"https://colab.research.google.com/github/dcmdillon/module2_lectures/blob/master/2_2_list_comprehensions.ipynb\" target=\"_parent\"><img src=\"https://colab.research.google.com/assets/colab-badge.svg\" alt=\"Open In Colab\"/></a>"
      ]
    },
    {
      "cell_type": "markdown",
      "metadata": {
        "id": "mP-2UtUpsE_a",
        "colab_type": "text"
      },
      "source": [
        "# List Comprehensions\n",
        "\n",
        "## Objectives\n",
        "\n",
        "1. Understand the list comprehension syntax\n",
        "2. Demonstrate list processing with comprehensions\n",
        "3. Use list comprehensions in probability simulations"
      ]
    },
    {
      "cell_type": "markdown",
      "metadata": {
        "collapsed": true,
        "id": "A24GXZ1DsE_b",
        "colab_type": "text"
      },
      "source": [
        "## List Comprehension\n",
        "\n",
        "* Expression for constructing list\n",
        "* Returns a new list\n",
        "* Reads like math\n",
        "    * Set builder notation"
      ]
    },
    {
      "cell_type": "code",
      "metadata": {
        "id": "f4iGpCRisE_c",
        "colab_type": "code",
        "colab": {},
        "outputId": "bbc0a76b-da88-4c2e-d4ee-b45d49f50cb2"
      },
      "source": [
        "mylist = [1,2,3,4,5]\n",
        "yourlist = [item ** 2 for item in mylist]\n",
        "yourlist"
      ],
      "execution_count": null,
      "outputs": [
        {
          "output_type": "execute_result",
          "data": {
            "text/plain": [
              "[1, 4, 9, 16, 25]"
            ]
          },
          "metadata": {
            "tags": []
          },
          "execution_count": 1
        }
      ]
    },
    {
      "cell_type": "markdown",
      "metadata": {
        "id": "IKatWYtOsE_l",
        "colab_type": "text"
      },
      "source": [
        "## Building a Comprehension\n",
        "\n",
        "\n",
        "    \n",
        "<img src=\"https://github.com/wsu-stat489/USCOTS2017_workshop/blob/master/img/listComprehensions.gif?raw=true\">"
      ]
    },
    {
      "cell_type": "markdown",
      "metadata": {
        "id": "ET39cHtOsE_m",
        "colab_type": "text"
      },
      "source": [
        "## Building a List Comprehension\n",
        "\n",
        "1. Begin with an empty shell\n",
        "\n",
        "2. Insert the input sequence\n",
        "\n",
        "3. Give the elements a name"
      ]
    },
    {
      "cell_type": "markdown",
      "metadata": {
        "id": "Yf97cE-HsE_m",
        "colab_type": "text"
      },
      "source": [
        "`L = [   for    in       ]`"
      ]
    },
    {
      "cell_type": "markdown",
      "metadata": {
        "id": "V4CQ91_rsE_n",
        "colab_type": "text"
      },
      "source": [
        "`L = [    for     in range(10)]`"
      ]
    },
    {
      "cell_type": "markdown",
      "metadata": {
        "id": "5UlIKY-3sE_o",
        "colab_type": "text"
      },
      "source": [
        "`L = [    for num in range(10)]`"
      ]
    },
    {
      "cell_type": "code",
      "metadata": {
        "id": "aRHJ7wImsE_o",
        "colab_type": "code",
        "colab": {},
        "outputId": "d8774d1e-374d-41bf-c7b4-c9a00433fedb"
      },
      "source": [
        "L = [num + 2 for num in range(10)]\n",
        "L"
      ],
      "execution_count": null,
      "outputs": [
        {
          "output_type": "execute_result",
          "data": {
            "text/plain": [
              "[2, 3, 4, 5, 6, 7, 8, 9, 10, 11]"
            ]
          },
          "metadata": {
            "tags": []
          },
          "execution_count": 2
        }
      ]
    },
    {
      "cell_type": "markdown",
      "metadata": {
        "id": "4GDMMVLOsE_r",
        "colab_type": "text"
      },
      "source": [
        "## Adding an optional filter\n",
        "\n",
        "* The if portion is optional\n",
        "* Syntax: `if boolean_cond`\n",
        "    * After input sequence\n",
        "* Only keeps value for which the condition is `True`"
      ]
    },
    {
      "cell_type": "code",
      "metadata": {
        "id": "-MZSxj2LsE_s",
        "colab_type": "code",
        "colab": {},
        "outputId": "b088ec27-a620-4916-d03e-1c66a36ba883"
      },
      "source": [
        "L = [num + 2 for num in range(10) if num % 2 == 1]\n",
        "L"
      ],
      "execution_count": null,
      "outputs": [
        {
          "output_type": "execute_result",
          "data": {
            "text/plain": [
              "[3, 5, 7, 9, 11]"
            ]
          },
          "metadata": {
            "tags": []
          },
          "execution_count": 3
        }
      ]
    },
    {
      "cell_type": "markdown",
      "metadata": {
        "id": "2yqVZs1XsE_x",
        "colab_type": "text"
      },
      "source": [
        "### <font color='red'> Exercise 1 </font>\n",
        "\n",
        "Write a list comprehension that contains the squares for the numbers between 0 and 20 (inclusive).  **Hint:** Start with a `range`"
      ]
    },
    {
      "cell_type": "code",
      "metadata": {
        "id": "eraMSWVRsE_y",
        "colab_type": "code",
        "colab": {
          "base_uri": "https://localhost:8080/",
          "height": 370
        },
        "outputId": "f65f9b7d-a9ad-4e43-f0a4-4b5b67a60514"
      },
      "source": [
        "l= [pow(num,2) for num in range(21)]\n",
        "l"
      ],
      "execution_count": 3,
      "outputs": [
        {
          "output_type": "execute_result",
          "data": {
            "text/plain": [
              "[0,\n",
              " 1,\n",
              " 4,\n",
              " 9,\n",
              " 16,\n",
              " 25,\n",
              " 36,\n",
              " 49,\n",
              " 64,\n",
              " 81,\n",
              " 100,\n",
              " 121,\n",
              " 144,\n",
              " 169,\n",
              " 196,\n",
              " 225,\n",
              " 256,\n",
              " 289,\n",
              " 324,\n",
              " 361,\n",
              " 400]"
            ]
          },
          "metadata": {
            "tags": []
          },
          "execution_count": 3
        }
      ]
    },
    {
      "cell_type": "markdown",
      "metadata": {
        "id": "1zHh0kzfsE_1",
        "colab_type": "text"
      },
      "source": [
        "### <font color='red'> Exercise 2 </font>\n",
        "\n",
        "Write a list comprehension that contains all perfect squares less than 555.  **Hint:** Use a large range and a filter."
      ]
    },
    {
      "cell_type": "code",
      "metadata": {
        "id": "A0pqEqYSsE_2",
        "colab_type": "code",
        "colab": {
          "base_uri": "https://localhost:8080/",
          "height": 420
        },
        "outputId": "3144a85b-6ea6-46b9-ead3-c9cf038ed98c"
      },
      "source": [
        "import math as m\n",
        "l = [num for num in range(555) if m.sqrt(num) % 1 == 0]\n",
        "l"
      ],
      "execution_count": 6,
      "outputs": [
        {
          "output_type": "execute_result",
          "data": {
            "text/plain": [
              "[0,\n",
              " 1,\n",
              " 4,\n",
              " 9,\n",
              " 16,\n",
              " 25,\n",
              " 36,\n",
              " 49,\n",
              " 64,\n",
              " 81,\n",
              " 100,\n",
              " 121,\n",
              " 144,\n",
              " 169,\n",
              " 196,\n",
              " 225,\n",
              " 256,\n",
              " 289,\n",
              " 324,\n",
              " 361,\n",
              " 400,\n",
              " 441,\n",
              " 484,\n",
              " 529]"
            ]
          },
          "metadata": {
            "tags": []
          },
          "execution_count": 6
        }
      ]
    },
    {
      "cell_type": "markdown",
      "metadata": {
        "id": "fP5gbVtAsE_5",
        "colab_type": "text"
      },
      "source": [
        "## Splitting and processing string\n",
        "\n",
        "* Use `split` to cut a string into a list of strings\n",
        "* Use a comprehension to process the list."
      ]
    },
    {
      "cell_type": "code",
      "metadata": {
        "id": "q0HwKNq-sE_6",
        "colab_type": "code",
        "colab": {
          "base_uri": "https://localhost:8080/",
          "height": 286
        },
        "outputId": "569d8681-b639-4e6f-874f-bd5745d9fd12"
      },
      "source": [
        "quote = \"Don't judge each day by the harvest you reap but by the seeds that you plant.\"\n",
        "quote.split(\" \")"
      ],
      "execution_count": 8,
      "outputs": [
        {
          "output_type": "execute_result",
          "data": {
            "text/plain": [
              "[\"Don't\",\n",
              " 'judge',\n",
              " 'each',\n",
              " 'day',\n",
              " 'by',\n",
              " 'the',\n",
              " 'harvest',\n",
              " 'you',\n",
              " 'reap',\n",
              " 'but',\n",
              " 'by',\n",
              " 'the',\n",
              " 'seeds',\n",
              " 'that',\n",
              " 'you',\n",
              " 'plant.']"
            ]
          },
          "metadata": {
            "tags": []
          },
          "execution_count": 8
        }
      ]
    },
    {
      "cell_type": "code",
      "metadata": {
        "id": "ELIf7vU0sE_-",
        "colab_type": "code",
        "colab": {},
        "outputId": "e8bf3adc-afcc-44f1-e3e8-4ec57f333981"
      },
      "source": [
        "[len(word) for word in quote.split(\" \")]"
      ],
      "execution_count": null,
      "outputs": [
        {
          "output_type": "execute_result",
          "data": {
            "text/plain": [
              "[5, 5, 4, 3, 2, 3, 7, 3, 4, 3, 2, 3, 5, 4, 3, 6]"
            ]
          },
          "metadata": {
            "tags": []
          },
          "execution_count": 3
        }
      ]
    },
    {
      "cell_type": "markdown",
      "metadata": {
        "id": "GyLxbA-rsFAB",
        "colab_type": "text"
      },
      "source": [
        "### <font color='red'> Exercise 3 </font>\n",
        "\n",
        "Write a list comprehension that grabs the last two letter of each word.  **Hint:** Use the slice operation!"
      ]
    },
    {
      "cell_type": "code",
      "metadata": {
        "id": "pkfURz3csFAB",
        "colab_type": "code",
        "colab": {
          "base_uri": "https://localhost:8080/",
          "height": 286
        },
        "outputId": "6b3cacd2-d48d-480a-e28d-9130812c6111"
      },
      "source": [
        "l = [word[-2:] for word in quote.split(\" \")]\n",
        "l"
      ],
      "execution_count": 11,
      "outputs": [
        {
          "output_type": "execute_result",
          "data": {
            "text/plain": [
              "[\"'t\",\n",
              " 'ge',\n",
              " 'ch',\n",
              " 'ay',\n",
              " 'by',\n",
              " 'he',\n",
              " 'st',\n",
              " 'ou',\n",
              " 'ap',\n",
              " 'ut',\n",
              " 'by',\n",
              " 'he',\n",
              " 'ds',\n",
              " 'at',\n",
              " 'ou',\n",
              " 't.']"
            ]
          },
          "metadata": {
            "tags": []
          },
          "execution_count": 11
        }
      ]
    },
    {
      "cell_type": "markdown",
      "metadata": {
        "id": "OR-XSP0tsFAD",
        "colab_type": "text"
      },
      "source": [
        "### <font color='red'> Exercise 4 </font>\n",
        "\n",
        "Write a list comprehension that contains all words that have at least 4 characters. "
      ]
    },
    {
      "cell_type": "code",
      "metadata": {
        "id": "imkQWha8sFAE",
        "colab_type": "code",
        "colab": {
          "base_uri": "https://localhost:8080/",
          "height": 34
        },
        "outputId": "77b023f8-ea6d-45b5-e5d4-35b16eac56e4"
      },
      "source": [
        "l =[word for word in quote.split(\" \") if len(word) >= 4]\n",
        "l"
      ],
      "execution_count": 12,
      "outputs": [
        {
          "output_type": "execute_result",
          "data": {
            "text/plain": [
              "[\"Don't\", 'judge', 'each', 'harvest', 'reap', 'seeds', 'that', 'plant.']"
            ]
          },
          "metadata": {
            "tags": []
          },
          "execution_count": 12
        }
      ]
    },
    {
      "cell_type": "markdown",
      "metadata": {
        "id": "q50Hxb7_sFAI",
        "colab_type": "text"
      },
      "source": [
        "### Comprehensions work on any input sequence"
      ]
    },
    {
      "cell_type": "code",
      "metadata": {
        "id": "c0a-YtBfsFAJ",
        "colab_type": "code",
        "colab": {},
        "outputId": "65adcda0-c61a-4f64-dd22-8d48d5f34e74"
      },
      "source": [
        "# On string - gives list of characters\n",
        "[ch for ch in \"Todd Iverson\"]"
      ],
      "execution_count": null,
      "outputs": [
        {
          "output_type": "execute_result",
          "data": {
            "text/plain": [
              "['T', 'o', 'd', 'd', ' ', 'I', 'v', 'e', 'r', 's', 'o', 'n']"
            ]
          },
          "metadata": {
            "tags": []
          },
          "execution_count": 4
        }
      ]
    },
    {
      "cell_type": "code",
      "metadata": {
        "id": "R4BuDXODsFAM",
        "colab_type": "code",
        "colab": {},
        "outputId": "1112d755-a646-4256-b14a-63199cefd9ba"
      },
      "source": [
        "# On tuple - converts to list\n",
        "[item for item in (1,2,3)]"
      ],
      "execution_count": null,
      "outputs": [
        {
          "output_type": "execute_result",
          "data": {
            "text/plain": [
              "[1, 2, 3]"
            ]
          },
          "metadata": {
            "tags": []
          },
          "execution_count": 5
        }
      ]
    },
    {
      "cell_type": "code",
      "metadata": {
        "id": "T8kGCbe6sFAP",
        "colab_type": "code",
        "colab": {},
        "outputId": "35839a0d-3635-477b-b164-10887fa6bff9"
      },
      "source": [
        "# On a lazy sequence\n",
        "[tup for tup in enumerate([\"a\", \"b\", \"c\"])]"
      ],
      "execution_count": null,
      "outputs": [
        {
          "output_type": "execute_result",
          "data": {
            "text/plain": [
              "[(0, 'a'), (1, 'b'), (2, 'c')]"
            ]
          },
          "metadata": {
            "tags": []
          },
          "execution_count": 6
        }
      ]
    },
    {
      "cell_type": "markdown",
      "metadata": {
        "id": "51PHzpqVsFAS",
        "colab_type": "text"
      },
      "source": [
        "## Writing Clean Code\n",
        "### Using helper functions\n",
        "\n",
        "* **Clean Code Rule 1:** Use helper functions to hide complexity"
      ]
    },
    {
      "cell_type": "code",
      "metadata": {
        "id": "4MhGGCS0sFAS",
        "colab_type": "code",
        "colab": {},
        "outputId": "ea59779e-fd69-4d39-cf82-c0d781f6511d"
      },
      "source": [
        "# Original comprehension\n",
        "[x**(1/3) for x in range(5) if x %2 == 1]"
      ],
      "execution_count": null,
      "outputs": [
        {
          "output_type": "execute_result",
          "data": {
            "text/plain": [
              "[1.0, 1.4422495703074083]"
            ]
          },
          "metadata": {
            "tags": []
          },
          "execution_count": 2
        }
      ]
    },
    {
      "cell_type": "markdown",
      "metadata": {
        "id": "WLzHEANOsFAX",
        "colab_type": "text"
      },
      "source": [
        "## Which is easier to read?"
      ]
    },
    {
      "cell_type": "code",
      "metadata": {
        "id": "vbpsGRBesFAX",
        "colab_type": "code",
        "colab": {},
        "outputId": "40c16219-b778-4853-a629-68f7a7ca8d39"
      },
      "source": [
        "[x**(1/3) for x in range(5) if x %2 == 1]\n",
        "[cube_root(x) for x in range(5) if is_odd(x)]"
      ],
      "execution_count": null,
      "outputs": [
        {
          "output_type": "execute_result",
          "data": {
            "text/plain": [
              "[1.0, 1.4422495703074083]"
            ]
          },
          "metadata": {
            "tags": []
          },
          "execution_count": 40
        }
      ]
    },
    {
      "cell_type": "markdown",
      "metadata": {
        "id": "iE_NwYTQsFAa",
        "colab_type": "text"
      },
      "source": [
        "## Cleaning up list comprehensions\n",
        "\n",
        "1. Make a function for \n",
        "    1. the expression,\n",
        "    2. the sequence, and \n",
        "    3. the predicate\n",
        "2. Refactor by replacing code with function calls."
      ]
    },
    {
      "cell_type": "code",
      "metadata": {
        "id": "S3dFT0U9sFAb",
        "colab_type": "code",
        "colab": {}
      },
      "source": [
        "# Helper functions\n",
        "is_odd = lambda x: x % 2 == 1\n",
        "cube_root = lambda x: x**(1/3)"
      ],
      "execution_count": null,
      "outputs": []
    },
    {
      "cell_type": "code",
      "metadata": {
        "scrolled": true,
        "id": "Ap1bWtHcsFAd",
        "colab_type": "code",
        "colab": {},
        "outputId": "277f824d-408e-44aa-cfce-f149edb0c93c"
      },
      "source": [
        "# Refactored comprehension\n",
        "[cube_root(x) for x in range(5) if is_odd(x)]"
      ],
      "execution_count": null,
      "outputs": [
        {
          "output_type": "execute_result",
          "data": {
            "text/plain": [
              "[1.0, 1.4422495703074083]"
            ]
          },
          "metadata": {
            "tags": []
          },
          "execution_count": 9
        }
      ]
    },
    {
      "cell_type": "markdown",
      "metadata": {
        "id": "mPEM0a3TsFAg",
        "colab_type": "text"
      },
      "source": [
        "## Unpacking multiple items\n",
        "\n",
        "* Tuple unpacking assigns a name to each item\n",
        "* Can be use in a comprehension on a sequence of tuples"
      ]
    },
    {
      "cell_type": "code",
      "metadata": {
        "id": "a4bNEIw8sFAh",
        "colab_type": "code",
        "colab": {},
        "outputId": "e96a2ad5-901e-48e9-d5cb-7946e19446e9"
      },
      "source": [
        "a, b, c = (1, 2, 3)\n",
        "b"
      ],
      "execution_count": null,
      "outputs": [
        {
          "output_type": "execute_result",
          "data": {
            "text/plain": [
              "2"
            ]
          },
          "metadata": {
            "tags": []
          },
          "execution_count": 9
        }
      ]
    },
    {
      "cell_type": "code",
      "metadata": {
        "id": "YVWyQcqwsFAl",
        "colab_type": "code",
        "colab": {},
        "outputId": "68808303-f207-4872-b5eb-dc532a4156b4"
      },
      "source": [
        "l = ['a', 'b', 'c']\n",
        "m = [1, 2, 3]\n",
        "# Without unpacking\n",
        "[item for item in zip(l, m)]"
      ],
      "execution_count": null,
      "outputs": [
        {
          "output_type": "execute_result",
          "data": {
            "text/plain": [
              "[('a', 1), ('b', 2), ('c', 3)]"
            ]
          },
          "metadata": {
            "tags": []
          },
          "execution_count": 10
        }
      ]
    },
    {
      "cell_type": "code",
      "metadata": {
        "id": "4v3PCRX-sFAn",
        "colab_type": "code",
        "colab": {},
        "outputId": "528d4af7-e71d-4077-9200-d8223640b6e5"
      },
      "source": [
        "# with unpacking\n",
        "[i + str(j) for i, j in zip(l, m)]"
      ],
      "execution_count": null,
      "outputs": [
        {
          "output_type": "execute_result",
          "data": {
            "text/plain": [
              "['a1', 'b2', 'c3']"
            ]
          },
          "metadata": {
            "tags": []
          },
          "execution_count": 11
        }
      ]
    },
    {
      "cell_type": "markdown",
      "metadata": {
        "id": "YYaXkApRsFAp",
        "colab_type": "text"
      },
      "source": [
        "## <font color=\"red\"> Exercise 5 </font>\n",
        "\n",
        "You probably learned about the normal and standard normal distribution in your introductory statistics class.  In this activity, we will build up functions to simulate these distributions using a uniform random number generator."
      ]
    },
    {
      "cell_type": "markdown",
      "metadata": {
        "id": "HyuhsF8TsFAq",
        "colab_type": "text"
      },
      "source": [
        "#### Step 1 -- Transform two uniform random variates into a standard normal random variate.\n",
        "\n",
        "We will use the [Box-Mueller transformation](https://en.wikipedia.org/wiki/Box%E2%80%93Muller_transform) to simulate turn two uniform random variates (generated with `random.random`) into a single standard normal variate.  **Hint:** In particular you want to implement the formula for $Z_0$ where $U_1$ and $U_2$ are two numbers generated using `random.random`.\n",
        "\n",
        "**Task:** Write a function called `std_norm_variate` that generates a single random normal variate."
      ]
    },
    {
      "cell_type": "code",
      "metadata": {
        "id": "gaAFQt2xsFAq",
        "colab_type": "code",
        "colab": {}
      },
      "source": [
        "std_norm_variate = lambda: m.sqrt"
      ],
      "execution_count": null,
      "outputs": []
    },
    {
      "cell_type": "markdown",
      "metadata": {
        "id": "NIgCVAQKsFAt",
        "colab_type": "text"
      },
      "source": [
        "#### Step 2 -- Create function that generates many standard normal variates.\n",
        "\n",
        "Now use a list comprehension to create a function called `std_norm_variates` that has one argument `n` and returns `n` simulated random normal trials."
      ]
    },
    {
      "cell_type": "code",
      "metadata": {
        "id": "RZ3216OZsFAu",
        "colab_type": "code",
        "colab": {}
      },
      "source": [
        ""
      ],
      "execution_count": null,
      "outputs": []
    },
    {
      "cell_type": "markdown",
      "metadata": {
        "id": "Cs19CwMYsFA0",
        "colab_type": "text"
      },
      "source": [
        "#### Step 3 -- Transform a standard normal variate into a given normal variate.\n",
        "\n",
        "Suppose that `Z` is a standard normal variate and we want to simulate $X~Norm(\\mu, \\sigma)$.  It can be shown that applying the following transformation will result in the desired distribution.\n",
        "\n",
        "$$ X = \\mu + Z\\sigma $$\n",
        "\n",
        "Write a function called `norm_variate` that takes `mean` and `sd` as arguments and returns a normal variate from a distribution with this mean and standard deviation."
      ]
    },
    {
      "cell_type": "code",
      "metadata": {
        "id": "cTiYOxKbsFA1",
        "colab_type": "code",
        "colab": {}
      },
      "source": [
        ""
      ],
      "execution_count": null,
      "outputs": []
    },
    {
      "cell_type": "markdown",
      "metadata": {
        "id": "pXjnoxmLsFA5",
        "colab_type": "text"
      },
      "source": [
        "#### Step 4 -- Create function that generates many standard normal variates.\n",
        "\n",
        "Now use a list comprehension to create a function called `std_norm_variates` that has one argument `n` and returns `n` simulated random normal trials."
      ]
    },
    {
      "cell_type": "code",
      "metadata": {
        "id": "jay_zs49sFA6",
        "colab_type": "code",
        "colab": {}
      },
      "source": [
        ""
      ],
      "execution_count": null,
      "outputs": []
    }
  ]
}