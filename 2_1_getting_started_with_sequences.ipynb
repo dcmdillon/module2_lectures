{
  "nbformat": 4,
  "nbformat_minor": 0,
  "metadata": {
    "anaconda-cloud": {},
    "kernelspec": {
      "display_name": "Python 3",
      "language": "python",
      "name": "python3"
    },
    "language_info": {
      "codemirror_mode": {
        "name": "ipython",
        "version": 3
      },
      "file_extension": ".py",
      "mimetype": "text/x-python",
      "name": "python",
      "nbconvert_exporter": "python",
      "pygments_lexer": "ipython3",
      "version": "3.7.2"
    },
    "nbpresent": {
      "slides": {
        "537f6eb2-2283-47b1-9bc9-6c9ceccf79cb": {
          "id": "537f6eb2-2283-47b1-9bc9-6c9ceccf79cb",
          "prev": null,
          "regions": {
            "8bdbe3ed-17f2-4d1a-b1ac-5dd3c02f9a2f": {
              "attrs": {
                "height": 1,
                "width": 1,
                "x": 0,
                "y": 0
              },
              "content": {
                "cell": "85d3ea25-5fc1-40ca-afc2-09a50c7acd30",
                "part": "source"
              },
              "id": "8bdbe3ed-17f2-4d1a-b1ac-5dd3c02f9a2f"
            }
          }
        }
      },
      "themes": {}
    },
    "colab": {
      "name": "2_1_getting_started_with_sequences.ipynb",
      "provenance": [],
      "include_colab_link": true
    }
  },
  "cells": [
    {
      "cell_type": "markdown",
      "metadata": {
        "id": "view-in-github",
        "colab_type": "text"
      },
      "source": [
        "<a href=\"https://colab.research.google.com/github/dcmdillon/module2_lectures/blob/master/2_1_getting_started_with_sequences.ipynb\" target=\"_parent\"><img src=\"https://colab.research.google.com/assets/colab-badge.svg\" alt=\"Open In Colab\"/></a>"
      ]
    },
    {
      "cell_type": "markdown",
      "metadata": {
        "nbpresent": {
          "id": "85d3ea25-5fc1-40ca-afc2-09a50c7acd30"
        },
        "id": "c7SUd6FD2h_2",
        "colab_type": "text"
      },
      "source": [
        "# Getting Started with Sequential Data in Python \n",
        "\n",
        "## Objectives\n",
        "\n",
        "1. Understand operations on sequences\n",
        "2. Access data from a sequences using an index\n",
        "3. Access a portion of a sequence using slicing"
      ]
    },
    {
      "cell_type": "markdown",
      "metadata": {
        "nbpresent": {
          "id": "5d68486b-170c-4af6-9e81-502a4aa8e103"
        },
        "id": "POVhvGbM2iAB",
        "colab_type": "text"
      },
      "source": [
        "## Three data types\n",
        "\n",
        "* List\n",
        "* String\n",
        "* Tuple"
      ]
    },
    {
      "cell_type": "code",
      "metadata": {
        "nbpresent": {
          "id": "9fa0ccff-0e47-4836-93a7-be2823b34d88"
        },
        "id": "Zj0D0SGb2iAI",
        "colab_type": "code",
        "colab": {},
        "outputId": "456d8eb8-13d4-47e7-ec23-cfdacbce074f"
      },
      "source": [
        "L = [1,2,3]\n",
        "type(L)"
      ],
      "execution_count": null,
      "outputs": [
        {
          "output_type": "execute_result",
          "data": {
            "text/plain": [
              "list"
            ]
          },
          "metadata": {
            "tags": []
          },
          "execution_count": 1
        }
      ]
    },
    {
      "cell_type": "code",
      "metadata": {
        "nbpresent": {
          "id": "8c47a074-41c2-45d7-8153-ed191ba2ea69"
        },
        "id": "MWgQn4Aw2iAX",
        "colab_type": "code",
        "colab": {},
        "outputId": "b5d90c2f-c0da-44d3-c054-bcfccd6a3c75"
      },
      "source": [
        "s = \"Bob\"\n",
        "type(s)"
      ],
      "execution_count": null,
      "outputs": [
        {
          "output_type": "execute_result",
          "data": {
            "text/plain": [
              "str"
            ]
          },
          "metadata": {
            "tags": []
          },
          "execution_count": 2
        }
      ]
    },
    {
      "cell_type": "code",
      "metadata": {
        "nbpresent": {
          "id": "829326d3-62aa-466b-9e8c-89b5488fa040"
        },
        "id": "gHhkV86q2iAt",
        "colab_type": "code",
        "colab": {},
        "outputId": "43c767f2-6b1c-4739-fdc3-a1726669f231"
      },
      "source": [
        "tup = (1,2,3)\n",
        "type(tup)"
      ],
      "execution_count": null,
      "outputs": [
        {
          "output_type": "execute_result",
          "data": {
            "text/plain": [
              "tuple"
            ]
          },
          "metadata": {
            "tags": []
          },
          "execution_count": 3
        }
      ]
    },
    {
      "cell_type": "markdown",
      "metadata": {
        "nbpresent": {
          "id": "f72c9dee-71c1-4dbb-af8c-09a1aaacc026"
        },
        "id": "I65ThpW02iA4",
        "colab_type": "text"
      },
      "source": [
        "## More about indexing\n",
        "\n",
        "<img src=\"https://github.com/yardsale8/STAT489/blob/master/img/string_index.png?raw=true\" width=\"500\">"
      ]
    },
    {
      "cell_type": "code",
      "metadata": {
        "nbpresent": {
          "id": "6124e225-f1e5-4579-8112-6be4bc9cc02b"
        },
        "id": "x6sxfoPm2iA5",
        "colab_type": "code",
        "colab": {},
        "outputId": "bf2cd0ff-930b-48aa-d6a9-b6381f0b8789"
      },
      "source": [
        "s = \"Hello Bob\"\n",
        "s[3]"
      ],
      "execution_count": null,
      "outputs": [
        {
          "output_type": "execute_result",
          "data": {
            "text/plain": [
              "'l'"
            ]
          },
          "metadata": {
            "tags": []
          },
          "execution_count": 4
        }
      ]
    },
    {
      "cell_type": "code",
      "metadata": {
        "nbpresent": {
          "id": "b99289df-afbb-4914-928b-385a9c6f696b"
        },
        "id": "ZjK_7AZQ2iA_",
        "colab_type": "code",
        "colab": {},
        "outputId": "86d826f7-ead8-4533-898a-4b851fbe6fd8"
      },
      "source": [
        "s[-2]"
      ],
      "execution_count": null,
      "outputs": [
        {
          "output_type": "execute_result",
          "data": {
            "text/plain": [
              "'o'"
            ]
          },
          "metadata": {
            "tags": []
          },
          "execution_count": 5
        }
      ]
    },
    {
      "cell_type": "markdown",
      "metadata": {
        "nbpresent": {
          "id": "a587853a-2300-4e6a-b904-f3acefce323e"
        },
        "id": "laCnKSmE2iBK",
        "colab_type": "text"
      },
      "source": [
        "<img src=\"https://github.com/yardsale8/STAT489/blob/master/img/list_index.png?raw=true\" width = \"400\">"
      ]
    },
    {
      "cell_type": "code",
      "metadata": {
        "nbpresent": {
          "id": "526df420-a3ea-4655-beb1-d63539acccfd"
        },
        "id": "Sv9ba3f-2iBL",
        "colab_type": "code",
        "colab": {},
        "outputId": "24623f2c-dba6-4361-9f49-1023c97da461"
      },
      "source": [
        "L = ['A', 'B', 'C', 'D', 'F']\n",
        "L[0]"
      ],
      "execution_count": null,
      "outputs": [
        {
          "output_type": "execute_result",
          "data": {
            "text/plain": [
              "'A'"
            ]
          },
          "metadata": {
            "tags": []
          },
          "execution_count": 3
        }
      ]
    },
    {
      "cell_type": "code",
      "metadata": {
        "nbpresent": {
          "id": "2fa61f4c-7833-4b56-b0aa-3137266e44f1"
        },
        "id": "-JOwnDyS2iBQ",
        "colab_type": "code",
        "colab": {},
        "outputId": "2a34964b-0853-4f5d-f628-d542fb7ef5cb"
      },
      "source": [
        "L[-4]\n"
      ],
      "execution_count": null,
      "outputs": [
        {
          "output_type": "execute_result",
          "data": {
            "text/plain": [
              "'B'"
            ]
          },
          "metadata": {
            "tags": []
          },
          "execution_count": 4
        }
      ]
    },
    {
      "cell_type": "markdown",
      "metadata": {
        "nbpresent": {
          "id": "8a26922f-c791-4f46-b470-99bb0b55470e"
        },
        "id": "VEJK1A7Y2iBZ",
        "colab_type": "text"
      },
      "source": [
        "## Slicing\n",
        "<img src=\"https://github.com/yardsale8/STAT489/blob/master/img/string_index.png?raw=true\" width=\"500\">"
      ]
    },
    {
      "cell_type": "code",
      "metadata": {
        "nbpresent": {
          "id": "6f3a4be6-97bd-4b2b-b92b-66fd425a2d5c"
        },
        "id": "ybYE6dx02iBa",
        "colab_type": "code",
        "colab": {},
        "outputId": "92bec996-ffdb-4ff3-8c6a-beaebf1437c3"
      },
      "source": [
        "s[1:7]"
      ],
      "execution_count": null,
      "outputs": [
        {
          "output_type": "execute_result",
          "data": {
            "text/plain": [
              "'ello B'"
            ]
          },
          "metadata": {
            "tags": []
          },
          "execution_count": 24
        }
      ]
    },
    {
      "cell_type": "code",
      "metadata": {
        "nbpresent": {
          "id": "79e4173e-7e0a-4ea0-952d-2860c0a34b3a"
        },
        "id": "Xlr1Cr0-2iBg",
        "colab_type": "code",
        "colab": {
          "base_uri": "https://localhost:8080/",
          "height": 35
        },
        "outputId": "8fdb502a-cb49-4394-f209-90df974379f1"
      },
      "source": [
        "s[4:]"
      ],
      "execution_count": 21,
      "outputs": [
        {
          "output_type": "execute_result",
          "data": {
            "application/vnd.google.colaboratory.intrinsic+json": {
              "type": "string"
            },
            "text/plain": [
              "'o Bob'"
            ]
          },
          "metadata": {
            "tags": []
          },
          "execution_count": 21
        }
      ]
    },
    {
      "cell_type": "code",
      "metadata": {
        "nbpresent": {
          "id": "b75ee088-04a3-4a42-b3b2-26d9951d1143"
        },
        "id": "_ZYG6FHa2iBp",
        "colab_type": "code",
        "colab": {},
        "outputId": "192b4092-cffb-407f-bf07-ab73b5f80651"
      },
      "source": [
        "s[2:]"
      ],
      "execution_count": null,
      "outputs": [
        {
          "output_type": "execute_result",
          "data": {
            "text/plain": [
              "'llo Bob'"
            ]
          },
          "metadata": {
            "tags": []
          },
          "execution_count": 26
        }
      ]
    },
    {
      "cell_type": "code",
      "metadata": {
        "nbpresent": {
          "id": "2244f080-2f6d-40a5-b9ad-2e1a0f8a2542"
        },
        "id": "k7wL1xon2iBu",
        "colab_type": "code",
        "colab": {},
        "outputId": "08f91d30-f576-4ffb-c5d8-8ef8f1014f10"
      },
      "source": [
        "s[:]"
      ],
      "execution_count": null,
      "outputs": [
        {
          "output_type": "execute_result",
          "data": {
            "text/plain": [
              "'Hello Bob'"
            ]
          },
          "metadata": {
            "tags": []
          },
          "execution_count": 27
        }
      ]
    },
    {
      "cell_type": "code",
      "metadata": {
        "nbpresent": {
          "id": "38563f2f-ef48-4da2-aa8c-2560756f6d2c"
        },
        "id": "7Tv0XTxv2iB7",
        "colab_type": "code",
        "colab": {},
        "outputId": "3d2bf4c2-1691-4c36-8df5-1d015ce8c802"
      },
      "source": [
        "s[1::2]"
      ],
      "execution_count": null,
      "outputs": [
        {
          "output_type": "execute_result",
          "data": {
            "text/plain": [
              "'el o'"
            ]
          },
          "metadata": {
            "tags": []
          },
          "execution_count": 28
        }
      ]
    },
    {
      "cell_type": "markdown",
      "metadata": {
        "nbpresent": {
          "id": "ebb436ea-df24-43b9-8815-75f5b3a607fb"
        },
        "id": "o7fpXiky2iCI",
        "colab_type": "text"
      },
      "source": [
        "## Slicing works for all sequences"
      ]
    },
    {
      "cell_type": "code",
      "metadata": {
        "nbpresent": {
          "id": "90399bcb-86eb-4598-af31-08f8203fd418"
        },
        "id": "1GGLwjD_2iCJ",
        "colab_type": "code",
        "colab": {},
        "outputId": "b6282da5-8dba-493c-b43b-17969c11b8ee"
      },
      "source": [
        "L[1:7]"
      ],
      "execution_count": null,
      "outputs": [
        {
          "output_type": "execute_result",
          "data": {
            "text/plain": [
              "['B', 'C', 'D', 'F']"
            ]
          },
          "metadata": {
            "tags": []
          },
          "execution_count": 29
        }
      ]
    },
    {
      "cell_type": "code",
      "metadata": {
        "nbpresent": {
          "id": "2809f7c9-7af3-4c0d-be3f-2c67486d1018"
        },
        "id": "n6sovhkc2iCQ",
        "colab_type": "code",
        "colab": {},
        "outputId": "32c00ac9-abad-4a81-e2c9-24bd64dd8cb2"
      },
      "source": [
        "tup[1:]"
      ],
      "execution_count": null,
      "outputs": [
        {
          "output_type": "execute_result",
          "data": {
            "text/plain": [
              "(2, 3)"
            ]
          },
          "metadata": {
            "tags": []
          },
          "execution_count": 30
        }
      ]
    },
    {
      "cell_type": "markdown",
      "metadata": {
        "nbpresent": {
          "id": "3ae114c1-0e42-417a-b54e-1ca18044c59c"
        },
        "id": "J99lDExg2iCX",
        "colab_type": "text"
      },
      "source": [
        "## Boolean expressions"
      ]
    },
    {
      "cell_type": "code",
      "metadata": {
        "nbpresent": {
          "id": "32ce4183-e86a-413e-aaaf-b9c243df8577"
        },
        "id": "CclLPUwB2iCY",
        "colab_type": "code",
        "colab": {},
        "outputId": "548849b9-13f8-4558-d841-3afed0bacaf5"
      },
      "source": [
        "1 in [1,2,3]"
      ],
      "execution_count": null,
      "outputs": [
        {
          "output_type": "execute_result",
          "data": {
            "text/plain": [
              "True"
            ]
          },
          "metadata": {
            "tags": []
          },
          "execution_count": 6
        }
      ]
    },
    {
      "cell_type": "code",
      "metadata": {
        "nbpresent": {
          "id": "5a839225-b9b2-4240-8bae-d1496ce6a932"
        },
        "id": "N1RxvBV32iCc",
        "colab_type": "code",
        "colab": {},
        "outputId": "647178ee-3b7f-4255-d5fa-6be021437bdb"
      },
      "source": [
        "5 in [1,2,3]"
      ],
      "execution_count": null,
      "outputs": [
        {
          "output_type": "execute_result",
          "data": {
            "text/plain": [
              "False"
            ]
          },
          "metadata": {
            "tags": []
          },
          "execution_count": 7
        }
      ]
    },
    {
      "cell_type": "code",
      "metadata": {
        "nbpresent": {
          "id": "4fe11454-a482-466e-9fa5-ca19d9600aed"
        },
        "id": "dyUQvrGZ2iCg",
        "colab_type": "code",
        "colab": {},
        "outputId": "e8fedb51-f11e-402d-bcbd-1810d679f049"
      },
      "source": [
        "\"a\" not in \"Todd\""
      ],
      "execution_count": null,
      "outputs": [
        {
          "output_type": "execute_result",
          "data": {
            "text/plain": [
              "True"
            ]
          },
          "metadata": {
            "tags": []
          },
          "execution_count": 8
        }
      ]
    },
    {
      "cell_type": "code",
      "metadata": {
        "nbpresent": {
          "id": "f8a45d7f-96aa-4921-b79d-0766c4c2455b"
        },
        "id": "nUMBAtqf2iCk",
        "colab_type": "code",
        "colab": {},
        "outputId": "5a89d0d4-9c47-4e65-fcef-2a03c5c75d79"
      },
      "source": [
        "\"a\" in [\"a\", \"b\", \"c\"]"
      ],
      "execution_count": null,
      "outputs": [
        {
          "output_type": "execute_result",
          "data": {
            "text/plain": [
              "True"
            ]
          },
          "metadata": {
            "tags": []
          },
          "execution_count": 9
        }
      ]
    },
    {
      "cell_type": "code",
      "metadata": {
        "nbpresent": {
          "id": "a614c579-fd34-45ce-8c2a-8b25e1e85671"
        },
        "id": "6RJYlhMF2iCr",
        "colab_type": "code",
        "colab": {},
        "outputId": "15ece4b4-19b7-47a9-b624-1e47c14d76cc"
      },
      "source": [
        "\"a\" in [\"abc\", \"def\"]"
      ],
      "execution_count": null,
      "outputs": [
        {
          "output_type": "execute_result",
          "data": {
            "text/plain": [
              "False"
            ]
          },
          "metadata": {
            "tags": []
          },
          "execution_count": 10
        }
      ]
    },
    {
      "cell_type": "code",
      "metadata": {
        "nbpresent": {
          "id": "1654f260-ee30-48ae-ab1a-7aa665103616"
        },
        "id": "6sF5m2MM2iCu",
        "colab_type": "code",
        "colab": {},
        "outputId": "7969f47d-51aa-4650-d01a-b7b9ef831dab"
      },
      "source": [
        "\"todd\" == \"Todd\""
      ],
      "execution_count": null,
      "outputs": [
        {
          "output_type": "execute_result",
          "data": {
            "text/plain": [
              "False"
            ]
          },
          "metadata": {
            "tags": []
          },
          "execution_count": 11
        }
      ]
    },
    {
      "cell_type": "markdown",
      "metadata": {
        "nbpresent": {
          "id": "573bf141-408a-4a01-a6df-8e411f6bb6f2"
        },
        "id": "Sv8Rs6LS2iC4",
        "colab_type": "text"
      },
      "source": [
        "## Making a range of numbers\n",
        "\n",
        "* `range` returns a sequence of numbers\n",
        "* Lazy, converted to a list\n",
        "    * for small ranges"
      ]
    },
    {
      "cell_type": "code",
      "metadata": {
        "nbpresent": {
          "id": "d2f0a0d2-9f0c-4c8d-96e5-888549baa5d3"
        },
        "id": "Fa-81CU32iC5",
        "colab_type": "code",
        "colab": {},
        "outputId": "e4aa978c-00f5-4dd3-8bc0-18df62f75519"
      },
      "source": [
        "range(5)"
      ],
      "execution_count": null,
      "outputs": [
        {
          "output_type": "execute_result",
          "data": {
            "text/plain": [
              "range(0, 5)"
            ]
          },
          "metadata": {
            "tags": []
          },
          "execution_count": 13
        }
      ]
    },
    {
      "cell_type": "code",
      "metadata": {
        "nbpresent": {
          "id": "c057388e-3cc4-45a8-9bbc-538c1d38e6cf"
        },
        "id": "rKqBPGRE2iC_",
        "colab_type": "code",
        "colab": {},
        "outputId": "5bfd4bd4-2d27-47fa-d15d-1fb260ae67f2"
      },
      "source": [
        "list(range(5))"
      ],
      "execution_count": null,
      "outputs": [
        {
          "output_type": "execute_result",
          "data": {
            "text/plain": [
              "[0, 1, 2, 3, 4]"
            ]
          },
          "metadata": {
            "tags": []
          },
          "execution_count": 14
        }
      ]
    },
    {
      "cell_type": "markdown",
      "metadata": {
        "nbpresent": {
          "id": "a06b52c5-7cd8-4944-babf-c5089452dd48"
        },
        "id": "igO2dz6n2iDG",
        "colab_type": "text"
      },
      "source": [
        "## One argument\n",
        "\n",
        "* Starts at 0\n",
        "    * aligned with Python indexes\n",
        "* Up to, but not including, argument\n",
        "    * `range(n)` returns `n` elements\n",
        "    * Useful for repetition"
      ]
    },
    {
      "cell_type": "code",
      "metadata": {
        "nbpresent": {
          "id": "42aab43f-a332-40c6-8eda-30dc154716eb"
        },
        "id": "xigDsMks2iDI",
        "colab_type": "code",
        "colab": {},
        "outputId": "a8e6d255-2df9-4f72-dc78-17880d4fad7e"
      },
      "source": [
        "list(range(10))"
      ],
      "execution_count": null,
      "outputs": [
        {
          "output_type": "execute_result",
          "data": {
            "text/plain": [
              "[0, 1, 2, 3, 4, 5, 6, 7, 8, 9]"
            ]
          },
          "metadata": {
            "tags": []
          },
          "execution_count": 27
        }
      ]
    },
    {
      "cell_type": "markdown",
      "metadata": {
        "nbpresent": {
          "id": "3d06082c-c9b4-433c-b00f-716b6966d855"
        },
        "id": "Q6HEr1fO2iDP",
        "colab_type": "text"
      },
      "source": [
        "## Two Arguments\n",
        "\n",
        "* Starts at first argument\n",
        "* Goes up to, but not including, second argument\n",
        "    * Like slicing"
      ]
    },
    {
      "cell_type": "code",
      "metadata": {
        "nbpresent": {
          "id": "39c1a895-261d-4d77-8cf9-d0036be4ac78"
        },
        "id": "ApmnOhV92iDP",
        "colab_type": "code",
        "colab": {},
        "outputId": "8e223dbc-b240-4865-dd7d-a7c2c65778ae"
      },
      "source": [
        "list(range(2, 10))"
      ],
      "execution_count": null,
      "outputs": [
        {
          "output_type": "execute_result",
          "data": {
            "text/plain": [
              "[2, 3, 4, 5, 6, 7, 8, 9]"
            ]
          },
          "metadata": {
            "tags": []
          },
          "execution_count": 15
        }
      ]
    },
    {
      "cell_type": "markdown",
      "metadata": {
        "nbpresent": {
          "id": "fbfc6859-e7c7-49fc-9853-991923e821ae"
        },
        "id": "9snII27h2iDX",
        "colab_type": "text"
      },
      "source": [
        "## Three Arguments\n",
        "\n",
        "* First two as before\n",
        "* Third argument is step size"
      ]
    },
    {
      "cell_type": "code",
      "metadata": {
        "nbpresent": {
          "id": "4088789c-ae95-48d5-b3f8-bccb54304330"
        },
        "id": "3J4LW80M2iDY",
        "colab_type": "code",
        "colab": {},
        "outputId": "8121c7b3-938b-47a8-c5d1-e049cac9bb36"
      },
      "source": [
        "list(range(1,5,2))"
      ],
      "execution_count": null,
      "outputs": [
        {
          "output_type": "execute_result",
          "data": {
            "text/plain": [
              "[1, 3]"
            ]
          },
          "metadata": {
            "tags": []
          },
          "execution_count": 16
        }
      ]
    },
    {
      "cell_type": "code",
      "metadata": {
        "nbpresent": {
          "id": "af1af556-6ff7-4a4c-a729-65ac1a0c57e7"
        },
        "id": "mC-pi_EN2iDc",
        "colab_type": "code",
        "colab": {},
        "outputId": "e397116c-40ae-459b-c4f5-d6951cf64356"
      },
      "source": [
        "list(range(10,2,-1))"
      ],
      "execution_count": null,
      "outputs": [
        {
          "output_type": "execute_result",
          "data": {
            "text/plain": [
              "[10, 9, 8, 7, 6, 5, 4, 3]"
            ]
          },
          "metadata": {
            "tags": []
          },
          "execution_count": 17
        }
      ]
    },
    {
      "cell_type": "markdown",
      "metadata": {
        "nbpresent": {
          "id": "971c74bb-e97d-4f62-b8e1-dd095f971d82"
        },
        "id": "jnBf_7eB2iDg",
        "colab_type": "text"
      },
      "source": [
        "## Other list processing functions"
      ]
    },
    {
      "cell_type": "markdown",
      "metadata": {
        "nbpresent": {
          "id": "e5da4d20-3fe0-4a80-ac12-977067145539"
        },
        "id": "7uskHgBC2iDh",
        "colab_type": "text"
      },
      "source": [
        "### sum and max"
      ]
    },
    {
      "cell_type": "code",
      "metadata": {
        "nbpresent": {
          "id": "83de843e-c421-43aa-9759-6a9832e8bb87"
        },
        "id": "nL7DuMp72iDi",
        "colab_type": "code",
        "colab": {},
        "outputId": "adac6c80-62a1-471d-87f5-b9b2b6b7438a"
      },
      "source": [
        "sum([1,2,3])"
      ],
      "execution_count": null,
      "outputs": [
        {
          "output_type": "execute_result",
          "data": {
            "text/plain": [
              "6"
            ]
          },
          "metadata": {
            "tags": []
          },
          "execution_count": 23
        }
      ]
    },
    {
      "cell_type": "code",
      "metadata": {
        "nbpresent": {
          "id": "06f88760-7610-4211-af4c-1fb623ff9a2c"
        },
        "id": "SRIDgfHP2iDx",
        "colab_type": "code",
        "colab": {},
        "outputId": "d20ee70f-e032-4d61-d34a-2a7d357a4645"
      },
      "source": [
        "max([1,2,3])"
      ],
      "execution_count": null,
      "outputs": [
        {
          "output_type": "execute_result",
          "data": {
            "text/plain": [
              "3"
            ]
          },
          "metadata": {
            "tags": []
          },
          "execution_count": 24
        }
      ]
    },
    {
      "cell_type": "markdown",
      "metadata": {
        "nbpresent": {
          "id": "73f7b36b-675a-45e8-a0a7-5777aa4b5b9f"
        },
        "id": "OO1jwo862iD7",
        "colab_type": "text"
      },
      "source": [
        "## all and any"
      ]
    },
    {
      "cell_type": "code",
      "metadata": {
        "nbpresent": {
          "id": "a1f1ce29-a633-440a-aebe-436a72092a1f"
        },
        "id": "xbU_CKwc2iD8",
        "colab_type": "code",
        "colab": {},
        "outputId": "040aa055-3fa9-4eec-ab90-b5839dbac66c"
      },
      "source": [
        "all([True, False, False]) # True if all entries are True"
      ],
      "execution_count": null,
      "outputs": [
        {
          "output_type": "execute_result",
          "data": {
            "text/plain": [
              "False"
            ]
          },
          "metadata": {
            "tags": []
          },
          "execution_count": 25
        }
      ]
    },
    {
      "cell_type": "code",
      "metadata": {
        "nbpresent": {
          "id": "a8799272-513e-4425-89fd-da3440072a7f"
        },
        "id": "CPMY0UKh2iEC",
        "colab_type": "code",
        "colab": {},
        "outputId": "8fffc04c-43f4-4609-91da-fee34dab2eb1"
      },
      "source": [
        "any([True, False, False]) # True if any entries are True"
      ],
      "execution_count": null,
      "outputs": [
        {
          "output_type": "execute_result",
          "data": {
            "text/plain": [
              "True"
            ]
          },
          "metadata": {
            "tags": []
          },
          "execution_count": 26
        }
      ]
    },
    {
      "cell_type": "markdown",
      "metadata": {
        "nbpresent": {
          "id": "11458b39-3b9e-4564-be5f-1bf53168a5b9"
        },
        "id": "XZW6tnQu2iEG",
        "colab_type": "text"
      },
      "source": [
        "### `sorted` - making a new sorted sequence"
      ]
    },
    {
      "cell_type": "code",
      "metadata": {
        "nbpresent": {
          "id": "b7b6311e-9c8a-484f-8dcf-305bfcf7c99d"
        },
        "id": "Dxyp51Dd2iEM",
        "colab_type": "code",
        "colab": {
          "base_uri": "https://localhost:8080/",
          "height": 34
        },
        "outputId": "fcc695d6-18fe-4209-be58-10be317d82d4"
      },
      "source": [
        "sorted([1,3,2,5,4],) # returns a new sorted list"
      ],
      "execution_count": 19,
      "outputs": [
        {
          "output_type": "execute_result",
          "data": {
            "text/plain": [
              "[1, 2, 3, 4, 5]"
            ]
          },
          "metadata": {
            "tags": []
          },
          "execution_count": 19
        }
      ]
    },
    {
      "cell_type": "markdown",
      "metadata": {
        "nbpresent": {
          "id": "79bec505-58a0-45bb-8857-617ea2dfd2bf"
        },
        "id": "0hhFGk-Y2iEV",
        "colab_type": "text"
      },
      "source": [
        "## Combining lists with `zip`"
      ]
    },
    {
      "cell_type": "code",
      "metadata": {
        "nbpresent": {
          "id": "1c70df56-28a7-4fee-ba13-f025be816c08"
        },
        "id": "cFZgibUI2iEW",
        "colab_type": "code",
        "colab": {},
        "outputId": "86a742f3-ace1-41a9-a209-471f8e2236be"
      },
      "source": [
        "zip([1,2,3], [\"a\", \"b\", \"c\"]) # zip is lazy"
      ],
      "execution_count": null,
      "outputs": [
        {
          "output_type": "execute_result",
          "data": {
            "text/plain": [
              "<zip at 0x10410f748>"
            ]
          },
          "metadata": {
            "tags": []
          },
          "execution_count": 30
        }
      ]
    },
    {
      "cell_type": "code",
      "metadata": {
        "nbpresent": {
          "id": "0de7acea-bf29-4994-a89d-21f938825c7e"
        },
        "id": "ypyR_iJ_2iEe",
        "colab_type": "code",
        "colab": {},
        "outputId": "edf1b62a-904c-43f6-a05c-5a52e497639c"
      },
      "source": [
        "list(zip([1,2,3], [\"a\", \"b\", \"c\"])) # Use list to complete"
      ],
      "execution_count": null,
      "outputs": [
        {
          "output_type": "execute_result",
          "data": {
            "text/plain": [
              "[(1, 'a'), (2, 'b'), (3, 'c')]"
            ]
          },
          "metadata": {
            "tags": []
          },
          "execution_count": 1
        }
      ]
    },
    {
      "cell_type": "markdown",
      "metadata": {
        "nbpresent": {
          "id": "ccaf8ff7-9f76-4ab8-851c-8630a3bb7701"
        },
        "id": "A1NpLm_c2iEx",
        "colab_type": "text"
      },
      "source": [
        "### <font color='red'> Exercise 1 </font>\n",
        "\n",
        "Write a function named `largest_three` that will return the three largest elements of a list.\n",
        "\n",
        "**Example** largest_three(range(5)) == [4, 3, 2]\n",
        "\n",
        "**Hint** `sorted` and slicing should do the trick!"
      ]
    },
    {
      "cell_type": "code",
      "metadata": {
        "nbpresent": {
          "id": "3da3a1e9-e1c3-4dfc-be8d-e9f698bf5ca0"
        },
        "id": "f6JAzCYx2iEz",
        "colab_type": "code",
        "colab": {
          "base_uri": "https://localhost:8080/",
          "height": 34
        },
        "outputId": "8b742439-2df3-4b35-9514-0041bd4f4e4d"
      },
      "source": [
        "def largest_three(t):\n",
        "  \"\"\"\n",
        "  \"\"\"\n",
        "  sorted(t)\n",
        "  return list(t[-3:])\n",
        "\n",
        "largest_three(range(5))"
      ],
      "execution_count": 27,
      "outputs": [
        {
          "output_type": "execute_result",
          "data": {
            "text/plain": [
              "[2, 3, 4]"
            ]
          },
          "metadata": {
            "tags": []
          },
          "execution_count": 27
        }
      ]
    },
    {
      "cell_type": "markdown",
      "metadata": {
        "nbpresent": {
          "id": "4dde7659-919e-4d17-9f8d-ecdb41645a22"
        },
        "id": "Od8qP3w32iE8",
        "colab_type": "text"
      },
      "source": [
        "### <font color=\"red\"> Exercise 2</font>\n",
        "\n",
        "Create the following functions.\n",
        "\n",
        "* Write a function named `median_odd` that will compute the median of an odd-length list.\n",
        "    * You need to sort and get the middle value using indexing."
      ]
    },
    {
      "cell_type": "code",
      "metadata": {
        "id": "9psBHVbx2iE9",
        "colab_type": "code",
        "colab": {}
      },
      "source": [
        "median_odd lambda L: 5 # Fix this!"
      ],
      "execution_count": null,
      "outputs": []
    },
    {
      "cell_type": "code",
      "metadata": {
        "nbpresent": {
          "id": "0198e826-d5ea-414c-ae04-995b0d4ba170"
        },
        "id": "hbFBQNEo2iFH",
        "colab_type": "code",
        "colab": {}
      },
      "source": [
        "# You need to pass these tests\n",
        "def test_median_odd():\n",
        "    assert median_odd([1]) == 1 # edge case\n",
        "    assert median_odd([1,2,3]) == 2 # should work on sorted list\n",
        "    assert median_odd([1,3,2,4,5]) == 3 # needs to sort first\n",
        "test_median_odd()"
      ],
      "execution_count": null,
      "outputs": []
    },
    {
      "cell_type": "markdown",
      "metadata": {
        "nbpresent": {
          "id": "4dde7659-919e-4d17-9f8d-ecdb41645a22"
        },
        "id": "Rns7_rh32iFP",
        "colab_type": "text"
      },
      "source": [
        "* Write a function named `median_even` that will compute the median of an even-length list.\n",
        "    * You need to sort, get the middle 2 value with slicing, and average these values."
      ]
    },
    {
      "cell_type": "code",
      "metadata": {
        "id": "lmyM3dtm2iFa",
        "colab_type": "code",
        "colab": {}
      },
      "source": [
        "median_even lambda L: 5 # Fix this!"
      ],
      "execution_count": null,
      "outputs": []
    },
    {
      "cell_type": "code",
      "metadata": {
        "nbpresent": {
          "id": "0198e826-d5ea-414c-ae04-995b0d4ba170"
        },
        "id": "enKaM0172iFi",
        "colab_type": "code",
        "colab": {}
      },
      "source": [
        "# You need to pass these tests\n",
        "def test_median_even():\n",
        "    assert median_odd([1, 2]) == 1.5 # edge case\n",
        "    assert median_odd([1, 2, 2, 3]) == 2.0 # should work on sorted list\n",
        "    assert median_odd([1, 3,4,2]) == 2.5 # needs to sort first\n",
        "test_median_even()"
      ],
      "execution_count": null,
      "outputs": []
    },
    {
      "cell_type": "markdown",
      "metadata": {
        "nbpresent": {
          "id": "4dde7659-919e-4d17-9f8d-ecdb41645a22"
        },
        "id": "0slCbwyM2iFv",
        "colab_type": "text"
      },
      "source": [
        "* Write a function named `median` that will compute the median of any length list.\n",
        "    * Use the conditional expression along with `median_odd` and `median_even`"
      ]
    },
    {
      "cell_type": "code",
      "metadata": {
        "id": "kYyuBt4G2iFw",
        "colab_type": "code",
        "colab": {}
      },
      "source": [
        "median = lambda L: 5 # Fix this!"
      ],
      "execution_count": null,
      "outputs": []
    },
    {
      "cell_type": "markdown",
      "metadata": {
        "nbpresent": {
          "id": "2e1dc285-b7d5-4802-94d7-f17654ad43d2"
        },
        "id": "JhgxwkQ82iF2",
        "colab_type": "text"
      },
      "source": [
        "### (Optional) Other Sequence Operations\n",
        "\n",
        "|Operation  | Purpose     |\n",
        "|---------- | ------------|\n",
        "| +         | concatenate |\n",
        "| *         | replicate   |\n",
        "| s[i]      | index       |\n",
        "| s[i:j]    | slice       |\n",
        "| len(s)    | length      |\n",
        "| s in t    | membership  |\n",
        "| s not in t| membership  |"
      ]
    },
    {
      "cell_type": "markdown",
      "metadata": {
        "nbpresent": {
          "id": "e45ac6b1-f224-4bcd-8a38-4c2c1d3a7591"
        },
        "id": "LhqexGCI2iF6",
        "colab_type": "text"
      },
      "source": [
        "## Arithmetic"
      ]
    },
    {
      "cell_type": "code",
      "metadata": {
        "nbpresent": {
          "id": "4e4aee86-02f2-48b3-a59e-af9269c1dc25"
        },
        "id": "MZTzYk9c2iF6",
        "colab_type": "code",
        "colab": {},
        "outputId": "980a9f41-62ee-4e21-c6dc-9734d948bc02"
      },
      "source": [
        "\"123\" + \"abc\""
      ],
      "execution_count": null,
      "outputs": [
        {
          "output_type": "execute_result",
          "data": {
            "text/plain": [
              "'123abc'"
            ]
          },
          "metadata": {
            "tags": []
          },
          "execution_count": 1
        }
      ]
    },
    {
      "cell_type": "code",
      "metadata": {
        "nbpresent": {
          "id": "af4fccfe-5504-450d-8968-551c7efb0116"
        },
        "id": "U8fkcTQz2iF-",
        "colab_type": "code",
        "colab": {},
        "outputId": "2e2345b3-1517-4afe-cd0a-1aefe7e35404"
      },
      "source": [
        "[1,2,3] + [\"a\",\"b\",\"c\"]"
      ],
      "execution_count": null,
      "outputs": [
        {
          "output_type": "execute_result",
          "data": {
            "text/plain": [
              "[1, 2, 3, 'a', 'b', 'c']"
            ]
          },
          "metadata": {
            "tags": []
          },
          "execution_count": 2
        }
      ]
    },
    {
      "cell_type": "code",
      "metadata": {
        "nbpresent": {
          "id": "ab3f85df-d2c0-4208-bdb0-a16b9d7d5e82"
        },
        "id": "hbxtXzqf2iGO",
        "colab_type": "code",
        "colab": {},
        "outputId": "9ce59942-916d-4408-bb52-aaa7d205aef2"
      },
      "source": [
        "3*[1,2,3]"
      ],
      "execution_count": null,
      "outputs": [
        {
          "output_type": "execute_result",
          "data": {
            "text/plain": [
              "[1, 2, 3, 1, 2, 3, 1, 2, 3]"
            ]
          },
          "metadata": {
            "tags": []
          },
          "execution_count": 3
        }
      ]
    },
    {
      "cell_type": "code",
      "metadata": {
        "nbpresent": {
          "id": "0b89ff0d-f7a7-44dc-a837-6a4025ffd8f2"
        },
        "id": "fBWIE6mI2iGS",
        "colab_type": "code",
        "colab": {},
        "outputId": "c13c31ff-e422-4e6f-dbba-115b4793d04b"
      },
      "source": [
        "3*\"Wow\" + 4*\"!\""
      ],
      "execution_count": null,
      "outputs": [
        {
          "output_type": "execute_result",
          "data": {
            "text/plain": [
              "'WowWowWow!!!!'"
            ]
          },
          "metadata": {
            "tags": []
          },
          "execution_count": 4
        }
      ]
    },
    {
      "cell_type": "code",
      "metadata": {
        "nbpresent": {
          "id": "14ae61dc-3a2a-463b-8072-ca7a6794290e"
        },
        "id": "5WKhfXkT2iGV",
        "colab_type": "code",
        "colab": {},
        "outputId": "0be7522e-ea0c-48f1-8258-7ac795599f7f"
      },
      "source": [
        "2*('a', 'b') + ('c',)"
      ],
      "execution_count": null,
      "outputs": [
        {
          "output_type": "execute_result",
          "data": {
            "text/plain": [
              "('a', 'b', 'a', 'b', 'c')"
            ]
          },
          "metadata": {
            "tags": []
          },
          "execution_count": 5
        }
      ]
    },
    {
      "cell_type": "markdown",
      "metadata": {
        "id": "A0ZAWq4i2iGY",
        "colab_type": "text"
      },
      "source": [
        "<font color=\"red\"><h2> (Optional) Exercise 3</h2></font>\n",
        "\n",
        "Create the following using concatenation (`+`) and replication (`*`)\n",
        "\n",
        "* [1,1,1,2,2,3,3,3]\n",
        "* \"Tora Tora Tora!\""
      ]
    },
    {
      "cell_type": "code",
      "metadata": {
        "id": "IDBIInD12iGY",
        "colab_type": "code",
        "colab": {}
      },
      "source": [
        ""
      ],
      "execution_count": null,
      "outputs": []
    }
  ]
}